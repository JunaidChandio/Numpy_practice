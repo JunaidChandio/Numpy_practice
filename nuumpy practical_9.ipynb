{
 "cells": [
  {
   "cell_type": "markdown",
   "id": "ffc2eff8",
   "metadata": {},
   "source": [
    "# string operation,comperation and information"
   ]
  },
  {
   "cell_type": "code",
   "execution_count": 1,
   "id": "20bda491",
   "metadata": {},
   "outputs": [],
   "source": [
    "import numpy as np"
   ]
  },
  {
   "cell_type": "code",
   "execution_count": 2,
   "id": "d743445b",
   "metadata": {},
   "outputs": [],
   "source": [
    "ch_name='pakistan AI production'\n",
    "str='learning pyhton numpy'"
   ]
  },
  {
   "cell_type": "code",
   "execution_count": 3,
   "id": "414560e6",
   "metadata": {},
   "outputs": [
    {
     "data": {
      "text/plain": [
       "array('pakistan AI productionlearning pyhton numpy', dtype='<U43')"
      ]
     },
     "execution_count": 3,
     "metadata": {},
     "output_type": "execute_result"
    }
   ],
   "source": [
    "np.char.add(ch_name,str)"
   ]
  },
  {
   "cell_type": "code",
   "execution_count": 4,
   "id": "8e40080d",
   "metadata": {},
   "outputs": [
    {
     "data": {
      "text/plain": [
       "array('pakistan ai production', dtype='<U22')"
      ]
     },
     "execution_count": 4,
     "metadata": {},
     "output_type": "execute_result"
    }
   ],
   "source": [
    "np.char.lower(ch_name)"
   ]
  },
  {
   "cell_type": "code",
   "execution_count": 5,
   "id": "6e6fba6e",
   "metadata": {},
   "outputs": [
    {
     "data": {
      "text/plain": [
       "array('LEARNING PYHTON NUMPY', dtype='<U21')"
      ]
     },
     "execution_count": 5,
     "metadata": {},
     "output_type": "execute_result"
    }
   ],
   "source": [
    "np.char.upper(str)"
   ]
  },
  {
   "cell_type": "code",
   "execution_count": 6,
   "id": "9398fb8b",
   "metadata": {},
   "outputs": [
    {
     "data": {
      "text/plain": [
       "array('                   learning pyhton numpy                    ',\n",
       "      dtype='<U60')"
      ]
     },
     "execution_count": 6,
     "metadata": {},
     "output_type": "execute_result"
    }
   ],
   "source": [
    "np.char.center(str,60)"
   ]
  },
  {
   "cell_type": "code",
   "execution_count": 8,
   "id": "7dcbb0b7",
   "metadata": {},
   "outputs": [
    {
     "data": {
      "text/plain": [
       "array('*******************learning pyhton numpy********************',\n",
       "      dtype='<U60')"
      ]
     },
     "execution_count": 8,
     "metadata": {},
     "output_type": "execute_result"
    }
   ],
   "source": [
    "np.char.center(str,60,fillchar=\"*\")"
   ]
  },
  {
   "cell_type": "code",
   "execution_count": 9,
   "id": "a7d9f5a4",
   "metadata": {},
   "outputs": [
    {
     "data": {
      "text/plain": [
       "array(list(['pakistan', 'AI', 'production']), dtype=object)"
      ]
     },
     "execution_count": 9,
     "metadata": {},
     "output_type": "execute_result"
    }
   ],
   "source": [
    "np.char.split(ch_name)"
   ]
  },
  {
   "cell_type": "code",
   "execution_count": 11,
   "id": "16b5224b",
   "metadata": {},
   "outputs": [
    {
     "data": {
      "text/plain": [
       "array(list(['hello', 'pakistan']), dtype=object)"
      ]
     },
     "execution_count": 11,
     "metadata": {},
     "output_type": "execute_result"
    }
   ],
   "source": [
    "np.char.splitlines(\"hello\\npakistan\")"
   ]
  },
  {
   "cell_type": "code",
   "execution_count": 18,
   "id": "2c768523",
   "metadata": {},
   "outputs": [
    {
     "data": {
      "text/plain": [
       "array(['d:m:y', 'd/m/y'], dtype='<U5')"
      ]
     },
     "execution_count": 18,
     "metadata": {},
     "output_type": "execute_result"
    }
   ],
   "source": [
    "str4 =\"dmy\"\n",
    "str5 =\"dmy\"\n",
    "np.char.join([\":\",\"/\"],[str4,str5])"
   ]
  },
  {
   "cell_type": "code",
   "execution_count": 19,
   "id": "657809d2",
   "metadata": {},
   "outputs": [
    {
     "data": {
      "text/plain": [
       "array('pakistan Artificial intelligence production', dtype='<U43')"
      ]
     },
     "execution_count": 19,
     "metadata": {},
     "output_type": "execute_result"
    }
   ],
   "source": [
    "np.char.replace(ch_name,'AI','Artificial intelligence')"
   ]
  },
  {
   "cell_type": "code",
   "execution_count": 20,
   "id": "a986cca4",
   "metadata": {},
   "outputs": [
    {
     "data": {
      "text/plain": [
       "'pakistan AI production'"
      ]
     },
     "execution_count": 20,
     "metadata": {},
     "output_type": "execute_result"
    }
   ],
   "source": [
    "ch_name"
   ]
  },
  {
   "cell_type": "code",
   "execution_count": 21,
   "id": "432466a5",
   "metadata": {},
   "outputs": [
    {
     "data": {
      "text/plain": [
       "array(True)"
      ]
     },
     "execution_count": 21,
     "metadata": {},
     "output_type": "execute_result"
    }
   ],
   "source": [
    "np.char.equal(str4,str5)"
   ]
  },
  {
   "cell_type": "code",
   "execution_count": 22,
   "id": "f074bb82",
   "metadata": {},
   "outputs": [
    {
     "data": {
      "text/plain": [
       "array(2)"
      ]
     },
     "execution_count": 22,
     "metadata": {},
     "output_type": "execute_result"
    }
   ],
   "source": [
    "np.char.count(ch_name,'a')"
   ]
  },
  {
   "cell_type": "code",
   "execution_count": 23,
   "id": "611759d0",
   "metadata": {},
   "outputs": [
    {
     "data": {
      "text/plain": [
       "'pakistan AI production'"
      ]
     },
     "execution_count": 23,
     "metadata": {},
     "output_type": "execute_result"
    }
   ],
   "source": [
    "ch_name"
   ]
  },
  {
   "cell_type": "code",
   "execution_count": 24,
   "id": "6e8ee7c1",
   "metadata": {},
   "outputs": [
    {
     "data": {
      "text/plain": [
       "array(9)"
      ]
     },
     "execution_count": 24,
     "metadata": {},
     "output_type": "execute_result"
    }
   ],
   "source": [
    "np.char.find(ch_name,\"AI\")"
   ]
  },
  {
   "cell_type": "code",
   "execution_count": null,
   "id": "ad57ad3c",
   "metadata": {},
   "outputs": [],
   "source": []
  }
 ],
 "metadata": {
  "kernelspec": {
   "display_name": "Python 3 (ipykernel)",
   "language": "python",
   "name": "python3"
  },
  "language_info": {
   "codemirror_mode": {
    "name": "ipython",
    "version": 3
   },
   "file_extension": ".py",
   "mimetype": "text/x-python",
   "name": "python",
   "nbconvert_exporter": "python",
   "pygments_lexer": "ipython3",
   "version": "3.11.5"
  }
 },
 "nbformat": 4,
 "nbformat_minor": 5
}
